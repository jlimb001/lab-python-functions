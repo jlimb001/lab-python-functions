{
 "cells": [
  {
   "cell_type": "markdown",
   "id": "25d7736c-ba17-4aff-b6bb-66eba20fbf4e",
   "metadata": {},
   "source": [
    "# Lab | Functions"
   ]
  },
  {
   "cell_type": "markdown",
   "id": "0c581062-8967-4d93-b06e-62833222f930",
   "metadata": {
    "tags": []
   },
   "source": [
    "## Exercise: Managing Customer Orders with Functions\n",
    "\n",
    "In the previous exercise, you improved the code for managing customer orders by using loops and flow control. Now, let's take it a step further and refactor the code by introducing functions.\n",
    "\n",
    "Follow the steps below to complete the exercise:\n",
    "\n",
    "1. Define a function named `initialize_inventory` that takes `products` as a parameter. Inside the function, implement the code for initializing the inventory dictionary using a loop and user input.\n",
    "\n",
    "2. Define a function named `get_customer_orders` that takes no parameters. Inside the function, implement the code for prompting the user to enter the product names using a loop. The function should return the `customer_orders` set.\n",
    "\n",
    "3. Define a function named `update_inventory` that takes `customer_orders` and `inventory` as parameters. Inside the function, implement the code for updating the inventory dictionary based on the customer orders.\n",
    "\n",
    "4. Define a function named `calculate_order_statistics` that takes `customer_orders` and `products` as parameters. Inside the function, implement the code for calculating the order statistics (total products ordered, and percentage of unique products ordered). The function should return these values.\n",
    "\n",
    "5. Define a function named `print_order_statistics` that takes `order_statistics` as a parameter. Inside the function, implement the code for printing the order statistics.\n",
    "\n",
    "6. Define a function named `print_updated_inventory` that takes `inventory` as a parameter. Inside the function, implement the code for printing the updated inventory.\n",
    "\n",
    "7. Call the functions in the appropriate sequence to execute the program and manage customer orders.\n",
    "\n",
    "Hints for functions:\n",
    "\n",
    "- Consider the input parameters required for each function and their return values.\n",
    "- Utilize function parameters and return values to transfer data between functions.\n",
    "- Test your functions individually to ensure they work correctly.\n",
    "\n",
    "\n"
   ]
  },
  {
   "cell_type": "code",
   "execution_count": null,
   "id": "40a69196",
   "metadata": {},
   "outputs": [],
   "source": [
    "# Creating the function for the product\n",
    "\n",
    "def initialize_inventory(product):\n",
    "        inventory = {}\n",
    "        print('\\nPlease enter the quantity of the following products:')\n",
    "        for item in product:\n",
    "            while True:  # Loop until valid input is provided\n",
    "                quantity_str = input(f\"{item}: \")\n",
    "                try:\n",
    "                    quantity = int(quantity_str)\n",
    "                    if quantity >= 0:  # Ensure the quantity is a non-negative number\n",
    "                        inventory[item] = quantity\n",
    "                        break  # Exit the inner loop if input is valid\n",
    "                    else:\n",
    "                        print(\"Please enter a non-negative number for the quantity.\")\n",
    "                except ValueError:\n",
    "                    print(\"Invalid input. Please enter a valid integer.\")\n",
    "        return inventory"
   ]
  },
  {
   "cell_type": "code",
   "execution_count": null,
   "id": "d1d52b97",
   "metadata": {},
   "outputs": [],
   "source": [
    "# Creating function for customer order\n",
    "\n",
    "def get_customer_orders():\n",
    "    customer_orders = set()\n",
    "    while True:\n",
    "        order = input(\"Enter a product to order (or 'no' to finish): \").lower()\n",
    "        if order == 'no':\n",
    "            break\n",
    "        if order in product:\n",
    "            customer_orders.add(order)\n",
    "        else:\n",
    "            print(\"This item is not available.\")\n",
    "\n",
    "    print(f\"Customer orders: {customer_orders}\")\n",
    "    return customer_orders\n"
   ]
  },
  {
   "cell_type": "code",
   "execution_count": 26,
   "id": "416d76b2",
   "metadata": {},
   "outputs": [],
   "source": [
    "def update_inventory(customer_orders, inventory):\n",
    "    for ordered_item in customer_orders:\n",
    "        if ordered_item in inventory and inventory[ordered_item] > 0:\n",
    "            inventory[ordered_item] -= 1\n",
    "        elif ordered_item in inventory: # just checking whether the item is in the inventory\n",
    "            print(f\"{ordered_item} is out of stock.\")\n",
    "\n",
    "    print(\"\\nUpdated inventory:\")\n",
    "    return inventory"
   ]
  },
  {
   "cell_type": "code",
   "execution_count": 27,
   "id": "d7d86647",
   "metadata": {},
   "outputs": [],
   "source": [
    "# Function for calculating the order\n",
    "def calculate_order_statistics(customer_orders, product):\n",
    "    ordered_list = len(customer_orders)\n",
    "    available_product = len(product)\n",
    "    if ordered_list > 0:\n",
    "        order_statistic = (ordered_list / available_product) * 100\n",
    "    else:\n",
    "        order_statistic = 0\n",
    "\n",
    "    return order_statistic"
   ]
  },
  {
   "cell_type": "code",
   "execution_count": 28,
   "id": "74a88678",
   "metadata": {},
   "outputs": [],
   "source": [
    "# Function to prind the order stat result\n",
    "def print_order_statistics(order_statistic):\n",
    "    print(\"\\nOrder Statistics:\")\n",
    "    print(f\"Percentage of Products ordered: {order_statistic:.2f}%\")\n"
   ]
  },
  {
   "cell_type": "code",
   "execution_count": 29,
   "id": "4592b0d7",
   "metadata": {},
   "outputs": [],
   "source": [
    "# Function that handles the updated inventory\n",
    "def print_updated_inventory(inventory):\n",
    "    for item, quantity in inventory.items():\n",
    "        print(f\"{item}: {quantity}\")\n"
   ]
  },
  {
   "cell_type": "code",
   "execution_count": null,
   "id": "b246d9f1",
   "metadata": {},
   "outputs": [
    {
     "name": "stdout",
     "output_type": "stream",
     "text": [
      "\n",
      "Please enter the quantity of the following products:\n",
      "This item is not available.\n",
      "Customer orders: set()\n",
      "\n",
      "Updated inventory:\n",
      "\n",
      "Order Statistics:\n",
      "Percentage of Products ordered: 0.00%\n",
      "t-shirt: 2\n",
      "mug: 2\n",
      "hat: 2\n",
      "book: 2\n",
      "keychain: 2\n"
     ]
    }
   ],
   "source": [
    "def main():\n",
    "    product = [\"t-shirt\", \"mug\", \"hat\", \"book\", \"keychain\"]\n",
    "    inventory = initialize_inventory(product)\n",
    "    customer_orders = get_customer_orders()\n",
    "    updated_inventory = update_inventory(customer_orders, inventory),\n",
    "    order_statistic = calculate_order_statistics(customer_orders, product)\n",
    "    print_order_statistics(order_statistic),\n",
    "    print_updated_inventory(inventory)\n",
    "\n",
    "main()"
   ]
  }
 ],
 "metadata": {
  "kernelspec": {
   "display_name": "Python 3",
   "language": "python",
   "name": "python3"
  },
  "language_info": {
   "codemirror_mode": {
    "name": "ipython",
    "version": 3
   },
   "file_extension": ".py",
   "mimetype": "text/x-python",
   "name": "python",
   "nbconvert_exporter": "python",
   "pygments_lexer": "ipython3",
   "version": "3.12.9"
  }
 },
 "nbformat": 4,
 "nbformat_minor": 5
}
